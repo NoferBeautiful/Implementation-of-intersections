{
  "nbformat": 4,
  "nbformat_minor": 0,
  "metadata": {
    "colab": {
      "name": "contest.ipynb",
      "provenance": [],
      "collapsed_sections": []
    },
    "kernelspec": {
      "name": "python3",
      "display_name": "Python 3"
    },
    "language_info": {
      "name": "python"
    }
  },
  "cells": [
    {
      "cell_type": "markdown",
      "source": [
        "# Abstract\n",
        "\n",
        "Суть решения - поиск как можно большего числа клик (полных связных подграфов) в исходной матрице, принимаемой в виде графа и последующий \"добор\" всех оставшихся с минимизацией итоговой мощности объединения."
      ],
      "metadata": {
        "id": "oVFJOLvTS8TP"
      }
    },
    {
      "cell_type": "markdown",
      "source": [
        "**Обоснование идеи**\n",
        "\n",
        "Заметим, что после упрощения задачи самый простой способ решения - проход по всем ячейкам попарных пересечений (выше диагонали) и учет для каждой пары новых элементов в количестве мощности этого пересечения.\n",
        "\n",
        "Рассмотрим набор множеств такого вида: \\\\\n",
        "\n",
        "$\\begin{pmatrix}\n",
        "x & 2 & 3 & 4 \\\\\n",
        "2 & x & 3 & 6 \\\\\n",
        "3 & 3 & x & 2 \\\\\n",
        "4 & 6 & 2 & x \\\\\n",
        "\\end{pmatrix}$ \n",
        "\n",
        "Скажем, что здесь задана клика из 3 элементов, которую можно учесть 2 раза (минимальное значение в выбранных ячейках). Учет этих же элементов лобовым методом, описанным выше, положит в каждое из 4 множеств по 2 * 3 уникальных элемента, и тогда всего их будет задействовано 24, в то время как нахождение этой клики запишет всего по 2 элемента, т.к. мы учитываем совпадение вершин во всех множествах из найденной клики.\n",
        "\n",
        "Из этих соображений можно вывести формулу, показывающую сэкономленную мощность объединения из-за выбора клики:\n",
        "\n",
        "$Economy = arr[i, j]_{min}*(2\\frac{n(n-1)}{2}-n) = arr[i, j]_{min}*(n^2-2n)$\n",
        "\n",
        "Из этого следует, что **нахождение клик действительно дает большой выигрыш по мощности**."
      ],
      "metadata": {
        "id": "erRIBgIRXWxF"
      }
    },
    {
      "cell_type": "code",
      "metadata": {
        "id": "UFG7T-o6bPHK"
      },
      "source": [
        "# Импорт библиотек\n",
        "\n",
        "import pandas as pd\n",
        "import numpy as np\n",
        "import torch\n",
        "from copy import deepcopy\n",
        "from numba import jit, njit\n",
        "import json\n",
        "from sklearn.cluster import AgglomerativeClustering, DBSCAN\n",
        "import matplotlib.pyplot as plt\n",
        "%matplotlib inline"
      ],
      "execution_count": null,
      "outputs": []
    },
    {
      "cell_type": "code",
      "metadata": {
        "colab": {
          "base_uri": "https://localhost:8080/",
          "height": 424
        },
        "id": "gMygojombsSa",
        "outputId": "27f49abe-e59e-40d4-a60c-5875ab6ec6ef"
      },
      "source": [
        "# Чтение в pandas\n",
        "\n",
        "name = 'triplets_all.csv'\n",
        "raw = pd.read_csv(f'/content/drive/MyDrive/Colab Notebooks/{name}')\n",
        "n = int(raw.size ** 0.5)\n",
        "\n",
        "raw"
      ],
      "execution_count": null,
      "outputs": [
        {
          "output_type": "execute_result",
          "data": {
            "text/html": [
              "\n",
              "  <div id=\"df-0d2f245c-3848-4fb5-bbdc-d619cc447122\">\n",
              "    <div class=\"colab-df-container\">\n",
              "      <div>\n",
              "<style scoped>\n",
              "    .dataframe tbody tr th:only-of-type {\n",
              "        vertical-align: middle;\n",
              "    }\n",
              "\n",
              "    .dataframe tbody tr th {\n",
              "        vertical-align: top;\n",
              "    }\n",
              "\n",
              "    .dataframe thead th {\n",
              "        text-align: right;\n",
              "    }\n",
              "</style>\n",
              "<table border=\"1\" class=\"dataframe\">\n",
              "  <thead>\n",
              "    <tr style=\"text-align: right;\">\n",
              "      <th></th>\n",
              "      <th>ids</th>\n",
              "      <th>intersize</th>\n",
              "    </tr>\n",
              "  </thead>\n",
              "  <tbody>\n",
              "    <tr>\n",
              "      <th>0</th>\n",
              "      <td>0_0</td>\n",
              "      <td>46</td>\n",
              "    </tr>\n",
              "    <tr>\n",
              "      <th>1</th>\n",
              "      <td>0_1</td>\n",
              "      <td>5</td>\n",
              "    </tr>\n",
              "    <tr>\n",
              "      <th>2</th>\n",
              "      <td>0_2</td>\n",
              "      <td>2</td>\n",
              "    </tr>\n",
              "    <tr>\n",
              "      <th>3</th>\n",
              "      <td>0_3</td>\n",
              "      <td>14</td>\n",
              "    </tr>\n",
              "    <tr>\n",
              "      <th>4</th>\n",
              "      <td>0_4</td>\n",
              "      <td>10</td>\n",
              "    </tr>\n",
              "    <tr>\n",
              "      <th>...</th>\n",
              "      <td>...</td>\n",
              "      <td>...</td>\n",
              "    </tr>\n",
              "    <tr>\n",
              "      <th>385876</th>\n",
              "      <td>875_876</td>\n",
              "      <td>0</td>\n",
              "    </tr>\n",
              "    <tr>\n",
              "      <th>385877</th>\n",
              "      <td>875_877</td>\n",
              "      <td>0</td>\n",
              "    </tr>\n",
              "    <tr>\n",
              "      <th>385878</th>\n",
              "      <td>876_876</td>\n",
              "      <td>43</td>\n",
              "    </tr>\n",
              "    <tr>\n",
              "      <th>385879</th>\n",
              "      <td>876_877</td>\n",
              "      <td>3</td>\n",
              "    </tr>\n",
              "    <tr>\n",
              "      <th>385880</th>\n",
              "      <td>877_877</td>\n",
              "      <td>72</td>\n",
              "    </tr>\n",
              "  </tbody>\n",
              "</table>\n",
              "<p>385881 rows × 2 columns</p>\n",
              "</div>\n",
              "      <button class=\"colab-df-convert\" onclick=\"convertToInteractive('df-0d2f245c-3848-4fb5-bbdc-d619cc447122')\"\n",
              "              title=\"Convert this dataframe to an interactive table.\"\n",
              "              style=\"display:none;\">\n",
              "        \n",
              "  <svg xmlns=\"http://www.w3.org/2000/svg\" height=\"24px\"viewBox=\"0 0 24 24\"\n",
              "       width=\"24px\">\n",
              "    <path d=\"M0 0h24v24H0V0z\" fill=\"none\"/>\n",
              "    <path d=\"M18.56 5.44l.94 2.06.94-2.06 2.06-.94-2.06-.94-.94-2.06-.94 2.06-2.06.94zm-11 1L8.5 8.5l.94-2.06 2.06-.94-2.06-.94L8.5 2.5l-.94 2.06-2.06.94zm10 10l.94 2.06.94-2.06 2.06-.94-2.06-.94-.94-2.06-.94 2.06-2.06.94z\"/><path d=\"M17.41 7.96l-1.37-1.37c-.4-.4-.92-.59-1.43-.59-.52 0-1.04.2-1.43.59L10.3 9.45l-7.72 7.72c-.78.78-.78 2.05 0 2.83L4 21.41c.39.39.9.59 1.41.59.51 0 1.02-.2 1.41-.59l7.78-7.78 2.81-2.81c.8-.78.8-2.07 0-2.86zM5.41 20L4 18.59l7.72-7.72 1.47 1.35L5.41 20z\"/>\n",
              "  </svg>\n",
              "      </button>\n",
              "      \n",
              "  <style>\n",
              "    .colab-df-container {\n",
              "      display:flex;\n",
              "      flex-wrap:wrap;\n",
              "      gap: 12px;\n",
              "    }\n",
              "\n",
              "    .colab-df-convert {\n",
              "      background-color: #E8F0FE;\n",
              "      border: none;\n",
              "      border-radius: 50%;\n",
              "      cursor: pointer;\n",
              "      display: none;\n",
              "      fill: #1967D2;\n",
              "      height: 32px;\n",
              "      padding: 0 0 0 0;\n",
              "      width: 32px;\n",
              "    }\n",
              "\n",
              "    .colab-df-convert:hover {\n",
              "      background-color: #E2EBFA;\n",
              "      box-shadow: 0px 1px 2px rgba(60, 64, 67, 0.3), 0px 1px 3px 1px rgba(60, 64, 67, 0.15);\n",
              "      fill: #174EA6;\n",
              "    }\n",
              "\n",
              "    [theme=dark] .colab-df-convert {\n",
              "      background-color: #3B4455;\n",
              "      fill: #D2E3FC;\n",
              "    }\n",
              "\n",
              "    [theme=dark] .colab-df-convert:hover {\n",
              "      background-color: #434B5C;\n",
              "      box-shadow: 0px 1px 3px 1px rgba(0, 0, 0, 0.15);\n",
              "      filter: drop-shadow(0px 1px 2px rgba(0, 0, 0, 0.3));\n",
              "      fill: #FFFFFF;\n",
              "    }\n",
              "  </style>\n",
              "\n",
              "      <script>\n",
              "        const buttonEl =\n",
              "          document.querySelector('#df-0d2f245c-3848-4fb5-bbdc-d619cc447122 button.colab-df-convert');\n",
              "        buttonEl.style.display =\n",
              "          google.colab.kernel.accessAllowed ? 'block' : 'none';\n",
              "\n",
              "        async function convertToInteractive(key) {\n",
              "          const element = document.querySelector('#df-0d2f245c-3848-4fb5-bbdc-d619cc447122');\n",
              "          const dataTable =\n",
              "            await google.colab.kernel.invokeFunction('convertToInteractive',\n",
              "                                                     [key], {});\n",
              "          if (!dataTable) return;\n",
              "\n",
              "          const docLinkHtml = 'Like what you see? Visit the ' +\n",
              "            '<a target=\"_blank\" href=https://colab.research.google.com/notebooks/data_table.ipynb>data table notebook</a>'\n",
              "            + ' to learn more about interactive tables.';\n",
              "          element.innerHTML = '';\n",
              "          dataTable['output_type'] = 'display_data';\n",
              "          await google.colab.output.renderOutput(dataTable, element);\n",
              "          const docLink = document.createElement('div');\n",
              "          docLink.innerHTML = docLinkHtml;\n",
              "          element.appendChild(docLink);\n",
              "        }\n",
              "      </script>\n",
              "    </div>\n",
              "  </div>\n",
              "  "
            ],
            "text/plain": [
              "            ids  intersize\n",
              "0           0_0         46\n",
              "1           0_1          5\n",
              "2           0_2          2\n",
              "3           0_3         14\n",
              "4           0_4         10\n",
              "...         ...        ...\n",
              "385876  875_876          0\n",
              "385877  875_877          0\n",
              "385878  876_876         43\n",
              "385879  876_877          3\n",
              "385880  877_877         72\n",
              "\n",
              "[385881 rows x 2 columns]"
            ]
          },
          "metadata": {},
          "execution_count": 2
        }
      ]
    },
    {
      "cell_type": "code",
      "metadata": {
        "colab": {
          "base_uri": "https://localhost:8080/"
        },
        "id": "iq17aDaScNB1",
        "outputId": "d44b5615-d01e-4122-f235-23085c2d01a6"
      },
      "source": [
        "# Преобразование в матричный вид\n",
        "\n",
        "cur = 0\n",
        "data = np.empty((n, n), dtype=int)\n",
        "for i in range(0, n):\n",
        "    for j in range(i, n):\n",
        "        data[i][j] = raw['intersize'][cur]\n",
        "        data[j][i] = raw['intersize'][cur]\n",
        "        cur += 1\n",
        "data"
      ],
      "execution_count": null,
      "outputs": [
        {
          "output_type": "execute_result",
          "data": {
            "text/plain": [
              "array([[ 46,   5,   2, ...,   0,   0,   0],\n",
              "       [  5, 121,   8, ...,   0,   0,   0],\n",
              "       [  2,   8,  43, ...,   0,   0,   0],\n",
              "       ...,\n",
              "       [  0,   0,   0, ...,  40,   0,   0],\n",
              "       [  0,   0,   0, ...,   0,  43,   3],\n",
              "       [  0,   0,   0, ...,   0,   3,  72]])"
            ]
          },
          "metadata": {},
          "execution_count": 32
        }
      ]
    },
    {
      "cell_type": "code",
      "source": [
        "# Сброс клик перед поиском новых\n",
        "res = [set() for i in range(n)]\n",
        "cur = 0\n",
        "data_cp = deepcopy(data)\n",
        "\n",
        "# Инициализация функции конвертации циклов в итоговую форму\n",
        "def cycles_to_res(cycles, len):\n",
        "    global cur\n",
        "    for i in cycles[:len]:\n",
        "        for cnt in range(i[-1]):\n",
        "            for j in i[:-1]:\n",
        "                res[j].add(cur)\n",
        "            cur += 1"
      ],
      "metadata": {
        "id": "LtzAdgtqY5Lx"
      },
      "execution_count": null,
      "outputs": []
    },
    {
      "cell_type": "markdown",
      "source": [
        "# Метод поиска клик фиксированного размера в порядке, минимизирующем мощность объединения"
      ],
      "metadata": {
        "id": "-rCiyyi04AvW"
      }
    },
    {
      "cell_type": "markdown",
      "source": [
        "**Определение порядка рассмотрения вершин**\n",
        "\n",
        "Заметим, что поиск клик напрямую по имеющемуся графу - идея неоптимальная в силу неудачного начального расположения мощностей пересечений друг относительно друга.\n",
        "\n",
        "Вместо этого будем рассматривать элементы через оператор *diag*, определяющий следующий оптимальный элемент.\n",
        "\n",
        "Взаимное расположение можно задавать разными способами, но наилучших результатов получилось добиться на поиске клик размера 5 по точкам 0-100; 12-112; 24-124 ... и последующем полном поиске клик размера 4 и 3.\n",
        "\n",
        "Данный выбор обусловлен предположением о том, что можно получить достаточный выигрыш на кликах небольшого размера, но взятых большее число раз."
      ],
      "metadata": {
        "id": "J0Srvl9L5U4-"
      }
    },
    {
      "cell_type": "code",
      "source": [
        "# Создание diag для перехода в нужном порядке\n",
        "\n",
        "h = np.empty(n, dtype=int)\n",
        "for i in range(0, n):\n",
        "    h[i] = 0\n",
        "    for j in range(0, n):\n",
        "        if i == j: continue\n",
        "        if data[i, j]: h[i] += 1\n",
        "#h = np.sort(h)\n",
        "\n",
        "diag = np.argsort(h)[::-1][:n]\n"
      ],
      "metadata": {
        "id": "Jd36MpK1k5TG"
      },
      "execution_count": null,
      "outputs": []
    },
    {
      "cell_type": "markdown",
      "source": [
        "**Поиск клик заданного размера**\n",
        "\n",
        "В данной идее мы рассматриваем фиксированный набор размеров клик, поэтому вместо универсального итеративного или рекурсивного варианта оправдан следующий подход: можно \"захардкодить\" поиск по интресующих нас размерам, который по сравнению с другими вариантами даст сильный выигрыш в скорости."
      ],
      "metadata": {
        "id": "wAWHmE90H_F8"
      }
    },
    {
      "cell_type": "code",
      "source": [
        "@njit()\n",
        "def find_cycles_5(data_cp, cycles):\n",
        "    size = 100\n",
        "    step = 10\n",
        "    cycles_len = 0\n",
        "    for cnt in range(0, n - size + 1, step):\n",
        "        if cnt % 100 == 0: print(cnt)\n",
        "        for cur_0_c in range(cnt, cnt+size):\n",
        "            for cur_1_c in range(cur_0_c + 1, cnt+size):\n",
        "                for cur_2_c in range(cur_1_c + 1, cnt+size):\n",
        "                    for cur_3_c in range(cur_2_c + 1, cnt+size):\n",
        "                        for cur_4_c in range(cur_3_c + 1, cnt+size):\n",
        "                            cur_0 = diag[cur_0_c]\n",
        "                            cur_1 = diag[cur_1_c]\n",
        "                            cur_2 = diag[cur_2_c]\n",
        "                            cur_3 = diag[cur_3_c]\n",
        "                            cur_4 = diag[cur_4_c]\n",
        "                            if data_cp[cur_0, cur_1] and data_cp[cur_0, cur_2] and data_cp[cur_0, cur_3] and data_cp[cur_0, cur_4] and data_cp[cur_1, cur_2] and data_cp[cur_1, cur_3] and data_cp[cur_1, cur_4] and data_cp[cur_2, cur_3] and data_cp[cur_2, cur_4] and data_cp[cur_3, cur_4]:\n",
        "                                cycles_len += 1\n",
        "                                cycles[cycles_len - 1][0] = cur_0\n",
        "                                cycles[cycles_len - 1][1] = cur_1\n",
        "                                cycles[cycles_len - 1][2] = cur_2\n",
        "                                cycles[cycles_len - 1][3] = cur_3\n",
        "                                cycles[cycles_len - 1][4] = cur_4\n",
        "                            while data_cp[cur_0, cur_1] and data_cp[cur_0, cur_2] and data_cp[cur_0, cur_3] and data_cp[cur_0, cur_4] and data_cp[cur_1, cur_2] and data_cp[cur_1, cur_3] and data_cp[cur_1, cur_4] and data_cp[cur_2, cur_3] and data_cp[cur_2, cur_4] and data_cp[cur_3, cur_4]:\n",
        "                                cycles[cycles_len - 1][-1] += 1\n",
        "                                data_cp[cur_0][cur_1] -= 1\n",
        "                                data_cp[cur_1][cur_0] -= 1\n",
        "                                data_cp[cur_0][cur_2] -= 1\n",
        "                                data_cp[cur_2][cur_0] -= 1\n",
        "                                data_cp[cur_0][cur_3] -= 1\n",
        "                                data_cp[cur_3][cur_0] -= 1\n",
        "                                data_cp[cur_0][cur_4] -= 1\n",
        "                                data_cp[cur_4][cur_0] -= 1\n",
        "                                data_cp[cur_1][cur_2] -= 1\n",
        "                                data_cp[cur_2][cur_1] -= 1\n",
        "                                data_cp[cur_1][cur_3] -= 1\n",
        "                                data_cp[cur_3][cur_1] -= 1\n",
        "                                data_cp[cur_1][cur_4] -= 1\n",
        "                                data_cp[cur_4][cur_1] -= 1\n",
        "                                data_cp[cur_2][cur_3] -= 1\n",
        "                                data_cp[cur_3][cur_2] -= 1\n",
        "                                data_cp[cur_2][cur_4] -= 1\n",
        "                                data_cp[cur_4][cur_2] -= 1\n",
        "                                data_cp[cur_3][cur_4] -= 1\n",
        "                                data_cp[cur_4][cur_3] -= 1\n",
        "    return cycles_len\n",
        "\n",
        "\n",
        "print(f'Searching cycles of length 5')\n",
        "cycles_5 = np.zeros((500000, 6), dtype=int)\n",
        "cycles_5_len = find_cycles_5(data_cp, cycles_5)\n",
        "cycles_to_res(cycles_5, cycles_5_len)\n",
        "print(f'Added cycles for len 5:{ cycles_5_len}')\n",
        "\n",
        "\n",
        "\n",
        "@njit()\n",
        "def find_cycles_4(data_cp, cycles):\n",
        "    size = 878\n",
        "    step = 5\n",
        "    cycles_len = 0\n",
        "    for cnt in range(0, n - size + 1, step):\n",
        "        if cnt % 100 == 0: print(cnt)\n",
        "        for cur_0_c in range(cnt, cnt+size):\n",
        "            for cur_1_c in range(cur_0_c + 1, cnt+size):\n",
        "                for cur_2_c in range(cur_1_c + 1, cnt+size):\n",
        "                    for cur_3_c in range(cur_2_c + 1, cnt+size):\n",
        "                        cur_0 = diag[cur_0_c]\n",
        "                        cur_1 = diag[cur_1_c]\n",
        "                        cur_2 = diag[cur_2_c]\n",
        "                        cur_3 = diag[cur_3_c]\n",
        "                        if data_cp[cur_0, cur_1] and data_cp[cur_0, cur_2] and data_cp[cur_0, cur_3] and data_cp[cur_1, cur_2] and data_cp[cur_1, cur_3] and data_cp[cur_2, cur_3]:\n",
        "                            cycles_len += 1\n",
        "                            cycles[cycles_len - 1][0] = cur_0\n",
        "                            cycles[cycles_len - 1][1] = cur_1\n",
        "                            cycles[cycles_len - 1][2] = cur_2\n",
        "                            cycles[cycles_len - 1][3] = cur_3\n",
        "                        while data_cp[cur_0, cur_1] and data_cp[cur_0, cur_2] and data_cp[cur_0, cur_3] and data_cp[cur_1, cur_2] and data_cp[cur_1, cur_3] and data_cp[cur_2, cur_3]:\n",
        "                            cycles[cycles_len - 1][-1] += 1\n",
        "                            data_cp[cur_0][cur_1] -= 1\n",
        "                            data_cp[cur_1][cur_0] -= 1\n",
        "                            data_cp[cur_0][cur_2] -= 1\n",
        "                            data_cp[cur_2][cur_0] -= 1\n",
        "                            data_cp[cur_0][cur_3] -= 1\n",
        "                            data_cp[cur_3][cur_0] -= 1\n",
        "                            data_cp[cur_1][cur_2] -= 1\n",
        "                            data_cp[cur_2][cur_1] -= 1\n",
        "                            data_cp[cur_1][cur_3] -= 1\n",
        "                            data_cp[cur_3][cur_1] -= 1\n",
        "                            data_cp[cur_2][cur_3] -= 1\n",
        "                            data_cp[cur_3][cur_2] -= 1\n",
        "    return cycles_len\n",
        "\n",
        "\n",
        "print(f'Searching cycles of length 4')\n",
        "cycles_4 = np.zeros((500000, 5), dtype=int)\n",
        "cycles_4_len = find_cycles_4(data_cp, cycles_4)\n",
        "cycles_to_res(cycles_4, cycles_4_len)\n",
        "print(f'Added cycles for len 4:{ cycles_4_len}')\n",
        "\n",
        "\n",
        "\n",
        "@njit()\n",
        "def find_cycles_3(data_cp, cycles):\n",
        "    size = 878\n",
        "    step = 5\n",
        "    cycles_len = 0\n",
        "    for cnt in range(0, n - size + 1, step):\n",
        "        if cnt % 100 == 0: print(cnt)\n",
        "        for cur_0_c in range(cnt, cnt+size):\n",
        "            for cur_1_c in range(cur_0_c + 1, cnt+size):\n",
        "                for cur_2_c in range(cur_1_c + 1, cnt+size):\n",
        "                    cur_0 = diag[cur_0_c]\n",
        "                    cur_1 = diag[cur_1_c]\n",
        "                    cur_2 = diag[cur_2_c]\n",
        "                    if data_cp[cur_0, cur_1] and data_cp[cur_0, cur_2] and data_cp[cur_1, cur_2]:\n",
        "                        cycles_len += 1\n",
        "                        cycles[cycles_len - 1][0] = cur_0\n",
        "                        cycles[cycles_len - 1][1] = cur_1\n",
        "                        cycles[cycles_len - 1][2] = cur_2\n",
        "                    while data_cp[cur_0, cur_1] and data_cp[cur_0, cur_2] and data_cp[cur_1, cur_2]:\n",
        "                        cycles[cycles_len - 1][-1] += 1\n",
        "                        data_cp[cur_0][cur_1] -= 1\n",
        "                        data_cp[cur_1][cur_0] -= 1\n",
        "                        data_cp[cur_0][cur_2] -= 1\n",
        "                        data_cp[cur_2][cur_0] -= 1\n",
        "                        data_cp[cur_1][cur_2] -= 1\n",
        "                        data_cp[cur_2][cur_1] -= 1\n",
        "    return cycles_len\n",
        "\n",
        "\n",
        "print(f'Searching cycles of length 3')\n",
        "cycles_3 = np.zeros((500000, 4), dtype=int)\n",
        "cycles_3_len = find_cycles_3(data_cp, cycles_3)\n",
        "cycles_to_res(cycles_3, cycles_3_len)\n",
        "print(f'Added cycles for len 3:{ cycles_3_len}')"
      ],
      "metadata": {
        "id": "v6HJnwgMfE3s",
        "colab": {
          "base_uri": "https://localhost:8080/"
        },
        "outputId": "ec328bf6-ddaa-4e39-fa5f-7e2262447e1e"
      },
      "execution_count": null,
      "outputs": [
        {
          "output_type": "stream",
          "name": "stdout",
          "text": [
            "Searching cycles of length 5\n",
            "0\n",
            "100\n",
            "200\n",
            "300\n",
            "400\n",
            "500\n",
            "600\n",
            "700\n",
            "Added cycles for len 5:23268\n",
            "Searching cycles of length 4\n",
            "0\n",
            "Added cycles for len 4:132715\n",
            "Searching cycles of length 3\n",
            "0\n",
            "Added cycles for len 3:48559\n"
          ]
        }
      ]
    },
    {
      "cell_type": "markdown",
      "source": [
        "**Жадный алгоритм для оставшихся пересечений**\n",
        "\n",
        "На данном этапе мы можем гарантировать, что клик размера 3 и 4 (ровно как и любой другой размерности выше) в нашем графе уже не существует, они все взяты, а поэтому нам не остается ничего, кроме как для каждого оставшегося непустого персечения учесть соответствующие число новых элементов в оба множества."
      ],
      "metadata": {
        "id": "1sZDiCFVsxfW"
      }
    },
    {
      "cell_type": "markdown",
      "source": [
        "**ВЫВОД**\n",
        "\n",
        "Данный метод наивен, в первую очередь в определении оптимального порядка рассмотрения ячеек. Определенными экспериментами с параметрами такой системы можно достичь мощности, близкой к 600к, но сильно ниже опуститься уже проблематично - **требуется более умное разделение на группы**."
      ],
      "metadata": {
        "id": "T4NKGrRRl9Qa"
      }
    },
    {
      "cell_type": "markdown",
      "source": [
        "# Метод с кластеризацией"
      ],
      "metadata": {
        "id": "zqHUd_ZtvWTU"
      }
    },
    {
      "cell_type": "markdown",
      "source": [
        "Вместо фиксированного перебора клик можно произвести кластеризацию всех множеств, **распределив их в небольшие группы**, имеющие удобные пересечения, по которым искать клики и быстрее, и полезнее."
      ],
      "metadata": {
        "id": "QtmMggRMyeq6"
      }
    },
    {
      "cell_type": "code",
      "source": [
        "# Получение матрицы с метрикой\n",
        "\n",
        "mtr = deepcopy(data)\n",
        "mtr = mtr.astype(float)\n",
        "for i in range(0, n):\n",
        "    for j in range(0, n):\n",
        "        if mtr[i, j] == 0:\n",
        "            mtr[i, j] = 5\n",
        "        else:\n",
        "            mtr[i, j] = 1 / (mtr[i, j] ** 0.2)\n",
        "mtr"
      ],
      "metadata": {
        "id": "ztBxwzaPmYt5",
        "colab": {
          "base_uri": "https://localhost:8080/"
        },
        "outputId": "6e25ccb4-0aa7-4b32-f8ab-dccd4a923965"
      },
      "execution_count": null,
      "outputs": [
        {
          "output_type": "execute_result",
          "data": {
            "text/plain": [
              "array([[0.46499516, 0.72477966, 0.87055056, ..., 5.        , 5.        ,\n",
              "        5.        ],\n",
              "       [0.72477966, 0.38321538, 0.65975396, ..., 5.        , 5.        ,\n",
              "        5.        ],\n",
              "       [0.87055056, 0.65975396, 0.47130962, ..., 5.        , 5.        ,\n",
              "        5.        ],\n",
              "       ...,\n",
              "       [5.        , 5.        , 5.        , ..., 0.47817625, 5.        ,\n",
              "        5.        ],\n",
              "       [5.        , 5.        , 5.        , ..., 5.        , 0.47130962,\n",
              "        0.80274156],\n",
              "       [5.        , 5.        , 5.        , ..., 5.        , 0.80274156,\n",
              "        0.4251415 ]])"
            ]
          },
          "metadata": {},
          "execution_count": 45
        }
      ]
    },
    {
      "cell_type": "markdown",
      "source": [
        "Обзор зависимости число совпадающих ячеек метрики от значение самой матрики"
      ],
      "metadata": {
        "id": "yM7izcY1yHwD"
      }
    },
    {
      "cell_type": "code",
      "source": [
        "x = dict()\n",
        "for i in range(n):\n",
        "    for j in range(n):\n",
        "        g = mtr[i, j] * 100 // 1 / 100\n",
        "        if g in x.keys():\n",
        "            x[g] += 1\n",
        "        else:\n",
        "            x[g] = 1\n",
        "fig, ax = plt.subplots()\n",
        "plt.scatter(list(x.keys()), list(x.values()))"
      ],
      "metadata": {
        "colab": {
          "base_uri": "https://localhost:8080/",
          "height": 282
        },
        "id": "P45ktWeNjPUF",
        "outputId": "afd69526-b349-44a5-f351-064f8ca80960"
      },
      "execution_count": null,
      "outputs": [
        {
          "output_type": "execute_result",
          "data": {
            "text/plain": [
              "<matplotlib.collections.PathCollection at 0x7f3b98b46f90>"
            ]
          },
          "metadata": {},
          "execution_count": 46
        },
        {
          "output_type": "display_data",
          "data": {
            "image/png": "[encoded data removed]",
            "text/plain": [
              "<Figure size 432x288 with 1 Axes>"
            ]
          },
          "metadata": {
            "needs_background": "light"
          }
        }
      ]
    },
    {
      "cell_type": "code",
      "source": [
        "def do_clustering(mtr, clusters):\n",
        "    cluster = AgglomerativeClustering(n_clusters=clusters, affinity='euclidean', linkage='ward')\n",
        "    clust_res = cluster.fit_predict(mtr)\n",
        "    groups = []\n",
        "    groups_len = []\n",
        "    for i in range(0, clusters):\n",
        "        c = []\n",
        "        for j in range(0, n):\n",
        "            if clust_res[j] == i:\n",
        "                c.append(j)\n",
        "        print(f'Added sets for {i}-th group : {len(c)}')\n",
        "        groups.append(np.array(c))\n",
        "        groups_len.append(len(c))\n",
        "    return groups, groups_len\n",
        "\n",
        "groups, groups_len = do_clustering(mtr, 30)"
      ],
      "metadata": {
        "id": "nQi1ebo9hQdv",
        "colab": {
          "base_uri": "https://localhost:8080/"
        },
        "outputId": "0943b750-8e43-4ac7-bfaa-4a51914cc561"
      },
      "execution_count": null,
      "outputs": [
        {
          "output_type": "stream",
          "name": "stdout",
          "text": [
            "Added sets for 0-th group : 13\n",
            "Added sets for 1-th group : 17\n",
            "Added sets for 2-th group : 17\n",
            "Added sets for 3-th group : 15\n",
            "Added sets for 4-th group : 23\n",
            "Added sets for 5-th group : 185\n",
            "Added sets for 6-th group : 2\n",
            "Added sets for 7-th group : 77\n",
            "Added sets for 8-th group : 24\n",
            "Added sets for 9-th group : 48\n",
            "Added sets for 10-th group : 3\n",
            "Added sets for 11-th group : 7\n",
            "Added sets for 12-th group : 41\n",
            "Added sets for 13-th group : 22\n",
            "Added sets for 14-th group : 64\n",
            "Added sets for 15-th group : 30\n",
            "Added sets for 16-th group : 13\n",
            "Added sets for 17-th group : 7\n",
            "Added sets for 18-th group : 12\n",
            "Added sets for 19-th group : 9\n",
            "Added sets for 20-th group : 3\n",
            "Added sets for 21-th group : 24\n",
            "Added sets for 22-th group : 16\n",
            "Added sets for 23-th group : 5\n",
            "Added sets for 24-th group : 2\n",
            "Added sets for 25-th group : 9\n",
            "Added sets for 26-th group : 5\n",
            "Added sets for 27-th group : 156\n",
            "Added sets for 28-th group : 21\n",
            "Added sets for 29-th group : 8\n"
          ]
        }
      ]
    },
    {
      "cell_type": "code",
      "source": [
        "# Универсальный поиск циклов\n",
        "\n",
        "@njit()\n",
        "def find(data_cp, cycles_cnt, start, finish, diag, cycles, cycles_cur, size):\n",
        "    last = -1\n",
        "    for cnt in range(0, size-cycles_cnt):\n",
        "        for i in range(0, cycles_cnt):\n",
        "            start[i] = cnt + i\n",
        "            finish[i] = size - (cycles_cnt - i)\n",
        "        next = 0\n",
        "        while 1:\n",
        "            i = cycles_cnt - 1\n",
        "            if start[i] == finish[i]:\n",
        "                while i >= 0 and start[i] == finish[i]:\n",
        "                    i -= 1\n",
        "                if i == -1:\n",
        "                    break\n",
        "                start[i] += 1\n",
        "                i += 1\n",
        "                while i < cycles_cnt:\n",
        "                    start[i] = start[i-1] + 1\n",
        "                    i += 1\n",
        "            else:\n",
        "                start[-1] += 1\n",
        "            \n",
        "            trans = diag[start]\n",
        "            mn = np.inf\n",
        "            for i in range(0, len(trans)):\n",
        "                for j in range(i+1, len(trans)):\n",
        "                    mn = min(mn, data_cp[trans[i], trans[j]])\n",
        "            if mn == 0: continue\n",
        "            for i in range(0, len(trans)):\n",
        "                for j in range(i+1, len(trans)):\n",
        "                    data_cp[trans[i], trans[j]] -= mn\n",
        "                    data_cp[trans[j], trans[i]] -= mn\n",
        "            cycles[cycles_cur][:-1] = np.copy(trans)\n",
        "            cycles[cycles_cur][-1] = mn\n",
        "            cycles_cur += 1\n",
        "    return cycles_cur\n",
        "\n",
        "for i in range(0, len(groups)):\n",
        "    if len(groups[i]) < 5:\n",
        "        continue\n",
        "    print(f'Searching cycles for group {i} with size {len(groups[i])}')\n",
        "    for j in range(4, 2, -1):\n",
        "        start = np.full(j, -1, dtype=int)\n",
        "        finish = np.zeros(j, dtype=int)\n",
        "        cycles = np.zeros((500000, j+1), dtype=int)\n",
        "        ln = 0\n",
        "        ln = find(data_cp, j, start, finish, groups[i], cycles, ln, len(groups[i]))\n",
        "        cycles_to_res(cycles, ln)\n",
        "        print(f'Added cycles: {ln} for len {j}')\n"
      ],
      "metadata": {
        "id": "gFz3SyZhpzKu",
        "colab": {
          "base_uri": "https://localhost:8080/"
        },
        "outputId": "836b1d90-2a9b-4fc2-bbe2-dca6a853ef10"
      },
      "execution_count": null,
      "outputs": [
        {
          "output_type": "stream",
          "name": "stdout",
          "text": [
            "Searching cycles for group 0 with size 13\n",
            "Added cycles: 37 for len 4\n",
            "Added cycles: 12 for len 3\n",
            "Searching cycles for group 1 with size 17\n",
            "Added cycles: 52 for len 4\n",
            "Added cycles: 12 for len 3\n",
            "Searching cycles for group 2 with size 17\n",
            "Added cycles: 47 for len 4\n",
            "Added cycles: 11 for len 3\n",
            "Searching cycles for group 3 with size 15\n",
            "Added cycles: 39 for len 4\n",
            "Added cycles: 5 for len 3\n",
            "Searching cycles for group 4 with size 23\n",
            "Added cycles: 118 for len 4\n",
            "Added cycles: 27 for len 3\n",
            "Searching cycles for group 5 with size 185\n",
            "Added cycles: 8990 for len 4\n",
            "Added cycles: 839 for len 3\n",
            "Searching cycles for group 7 with size 77\n",
            "Added cycles: 1255 for len 4\n",
            "Added cycles: 259 for len 3\n",
            "Searching cycles for group 8 with size 24\n",
            "Added cycles: 106 for len 4\n",
            "Added cycles: 23 for len 3\n",
            "Searching cycles for group 9 with size 48\n",
            "Added cycles: 478 for len 4\n",
            "Added cycles: 84 for len 3\n",
            "Searching cycles for group 11 with size 7\n",
            "Added cycles: 8 for len 4\n",
            "Added cycles: 4 for len 3\n",
            "Searching cycles for group 12 with size 41\n",
            "Added cycles: 322 for len 4\n",
            "Added cycles: 75 for len 3\n",
            "Searching cycles for group 13 with size 22\n",
            "Added cycles: 91 for len 4\n",
            "Added cycles: 17 for len 3\n",
            "Searching cycles for group 14 with size 64\n",
            "Added cycles: 880 for len 4\n",
            "Added cycles: 269 for len 3\n",
            "Searching cycles for group 15 with size 30\n",
            "Added cycles: 180 for len 4\n",
            "Added cycles: 34 for len 3\n",
            "Searching cycles for group 16 with size 13\n",
            "Added cycles: 28 for len 4\n",
            "Added cycles: 5 for len 3\n",
            "Searching cycles for group 17 with size 7\n",
            "Added cycles: 7 for len 4\n",
            "Added cycles: 4 for len 3\n",
            "Searching cycles for group 18 with size 12\n",
            "Added cycles: 29 for len 4\n",
            "Added cycles: 10 for len 3\n",
            "Searching cycles for group 19 with size 9\n",
            "Added cycles: 9 for len 4\n",
            "Added cycles: 6 for len 3\n",
            "Searching cycles for group 21 with size 24\n",
            "Added cycles: 151 for len 4\n",
            "Added cycles: 33 for len 3\n",
            "Searching cycles for group 22 with size 16\n",
            "Added cycles: 48 for len 4\n",
            "Added cycles: 5 for len 3\n",
            "Searching cycles for group 23 with size 5\n",
            "Added cycles: 2 for len 4\n",
            "Added cycles: 2 for len 3\n",
            "Searching cycles for group 25 with size 9\n",
            "Added cycles: 16 for len 4\n",
            "Added cycles: 4 for len 3\n",
            "Searching cycles for group 26 with size 5\n",
            "Added cycles: 2 for len 4\n",
            "Added cycles: 2 for len 3\n",
            "Searching cycles for group 27 with size 156\n",
            "Added cycles: 7406 for len 4\n",
            "Added cycles: 1243 for len 3\n",
            "Searching cycles for group 28 with size 21\n",
            "Added cycles: 105 for len 4\n",
            "Added cycles: 22 for len 3\n",
            "Searching cycles for group 29 with size 8\n",
            "Added cycles: 11 for len 4\n",
            "Added cycles: 3 for len 3\n"
          ]
        }
      ]
    },
    {
      "cell_type": "markdown",
      "source": [
        "Добор оставшихся вершин в клики по 4 и 3."
      ],
      "metadata": {
        "id": "r0lnwMcqz36q"
      }
    },
    {
      "cell_type": "code",
      "source": [
        "print(f'Searching cycles of length 4')\n",
        "cycles_4 = np.zeros((500000, 5), dtype=int)\n",
        "cycles_4_len = find_cycles_4(data_cp, cycles_4)\n",
        "cycles_to_res(cycles_4, cycles_4_len)\n",
        "print(f'Added cycles for len 4:{ cycles_4_len}')\n",
        "\n",
        "print(f'Searching cycles of length 3')\n",
        "cycles_3 = np.zeros((500000, 4), dtype=int)\n",
        "cycles_3_len = find_cycles_3(data_cp, cycles_3)\n",
        "cycles_to_res(cycles_3, cycles_3_len)\n",
        "print(f'Added cycles for len 3:{ cycles_3_len}')"
      ],
      "metadata": {
        "colab": {
          "base_uri": "https://localhost:8080/"
        },
        "id": "HF9HzcfSv9rC",
        "outputId": "e06fd135-68bd-4e69-9ca5-17b8587679b4"
      },
      "execution_count": null,
      "outputs": [
        {
          "output_type": "stream",
          "name": "stdout",
          "text": [
            "Searching cycles of length 4\n",
            "0\n",
            "Added cycles for len 4:148582\n",
            "Searching cycles of length 3\n",
            "0\n",
            "Added cycles for len 3:49958\n"
          ]
        }
      ]
    },
    {
      "cell_type": "markdown",
      "source": [
        "**Вывод**\n",
        "\n",
        "Этот метод способен дать гораздо лучший результат, чем фиксированный поиск, но я выбрал не самые оптимальные параметры для кластеризации множеств, поэтому выигрыш незначителен."
      ],
      "metadata": {
        "id": "0lgrzL2vz-hk"
      }
    },
    {
      "cell_type": "markdown",
      "source": [
        "# Добор оставшихся вершин и проверка\n"
      ],
      "metadata": {
        "id": "m_k9qhM48piX"
      }
    },
    {
      "cell_type": "markdown",
      "source": [
        "В обоих методах все вершины, которые остались нераспределенными по кликам, необходимо добрать в соответствующие множества."
      ],
      "metadata": {
        "id": "g6IbXfmezH10"
      }
    },
    {
      "cell_type": "code",
      "source": [
        "# Отбор всех оставшихся пересечений\n",
        "\n",
        "tmp = 0\n",
        "for i in range(0, n):\n",
        "    for j in range(i+1, n):\n",
        "        for k in range(1, data_cp[i][j]+1):\n",
        "            #print(i, j, k)\n",
        "            res[i].add(cur + tmp)\n",
        "            res[j].add(cur + tmp)\n",
        "            tmp += 1\n",
        "cur += tmp\n",
        "\n",
        "print(f'Added: {tmp} outside of cliques')"
      ],
      "metadata": {
        "id": "3ji9_JiLBLHe",
        "colab": {
          "base_uri": "https://localhost:8080/"
        },
        "outputId": "4714ea3a-4687-4ea7-fd36-2fc5144e9f36"
      },
      "execution_count": null,
      "outputs": [
        {
          "output_type": "stream",
          "name": "stdout",
          "text": [
            "Added: 216464 outside of cliques\n"
          ]
        }
      ]
    },
    {
      "cell_type": "markdown",
      "source": [
        "Проверка результата - проверка равенства ошибки нулю и оценка мощности объединения."
      ],
      "metadata": {
        "id": "R7nbxoK-zQgD"
      }
    },
    {
      "cell_type": "code",
      "source": [
        "# Проверка результата\n",
        "\n",
        "def check_correct(res, data):\n",
        "    for i in range(0, n):\n",
        "        for j in range(i+1, n):\n",
        "            len_cur = len(res[i] & res[j])\n",
        "            if (len_cur != data[i][j]):\n",
        "                print(f'Error for sets {i} and {j}: size is {len_cur} but need {data[i][j]}')\n",
        "                return 0\n",
        "    print('All sizes are correct\\n')\n",
        "    return 1\n",
        "\n",
        "def loss(res, data):\n",
        "    ans = 0\n",
        "    for i in range(0, n):\n",
        "        for j in range(0, i):\n",
        "            ans += abs(data[i][j] - len((res[i] & res[j])))\n",
        "        for j in range(i+1, n):\n",
        "            ans += abs(data[i][j] - len((res[i] & res[j])))\n",
        "    return ans\n",
        "\n",
        "if check_correct(res, data) == 0:\n",
        "    print(f'All loss is : {loss(res, data)}')\n",
        "\n",
        "ans = set()\n",
        "for i in res:\n",
        "    ans |= i\n",
        "print(f'Number of elements used : {len(ans)}')"
      ],
      "metadata": {
        "colab": {
          "base_uri": "https://localhost:8080/"
        },
        "id": "Hy3t13EYzMB6",
        "outputId": "c2236065-1d05-4219-f52f-fb371f381d2b"
      },
      "execution_count": null,
      "outputs": [
        {
          "output_type": "stream",
          "name": "stdout",
          "text": [
            "All sizes are correct\n",
            "\n",
            "Number of elements used : 653390\n"
          ]
        }
      ]
    },
    {
      "cell_type": "markdown",
      "source": [
        "# Вывод в файл"
      ],
      "metadata": {
        "id": "JBT0CAHojePZ"
      }
    },
    {
      "cell_type": "code",
      "source": [
        "# Запись ответа в файл\n",
        "\n",
        "k = open(\"/content/drive/MyDrive/Colab Notebooks/ans(2)_with_middle.csv\", 'w')\n",
        "\n",
        "k.write(\"ids,intersize\\n\")\n",
        "\n",
        "for i in range(0, n):\n",
        "    for j in range(i, n):\n",
        "        k.write(str(i)+'_'+str(j)+','+str(len(res[i]&res[j]))+'\\n')\n",
        "    \n",
        "k.close()\n",
        "\n",
        "g = {}\n",
        "for i in range(0, len(res)):\n",
        "    g[str(i)] = list(res[i])\n",
        "g\n",
        "with open(\"/content/drive/MyDrive/Colab Notebooks/ans(2)dict.json\", \"w\") as write_file:\n",
        "    json.dump(g, write_file)"
      ],
      "metadata": {
        "id": "f46GS7D1R1CG"
      },
      "execution_count": null,
      "outputs": []
    },
    {
      "cell_type": "code",
      "source": [
        "# Получение текста нужной функции для поиска n-ных циклов\n",
        "# Данная функция не имеет значения и предназначена лишь для отладки, просьба не обращать на нее внимание\n",
        "\n",
        "def get_algo_for_cycles(cycles_cnt, size, step):\n",
        "    ans = f'@njit()\\ndef find_cycles_{cycles_cnt}(data_cp, cycles):\\n'\n",
        "\n",
        "    tab = '    '\n",
        "    ans += f'{tab}' + f'size = {size}\\n' + f'{tab}' + f'step = {step}\\n' + f'{tab}' + f'cycles_len = 0\\n' + f'{tab}' + f'for cnt in range(0, n - size + 1, step):\\n'\n",
        "    ans += f'{tab}' + f'{tab}' + 'if cnt % 100 == 0: print(cnt)\\n'\n",
        "    ans += f'{tab}' + f'{tab}' + f'for cur_0_c in range(cnt, cnt+size):\\n'\n",
        "    for i in range(1, cycles_cnt):\n",
        "        ans += f'{tab}' + f'{tab}' * (i + 1) + f'for cur_{i}_c in range(cur_{i-1}_c + 1, cnt+size):\\n'\n",
        "    for i in range(0, cycles_cnt):\n",
        "        ans += f'{tab}' + f'{tab}' * (cycles_cnt + 1) + f'cur_{i} = diag[cur_{i}_c]\\n'\n",
        "    \n",
        "    ans += f'{tab}' + f'{tab}' * (cycles_cnt + 1) + 'if '\n",
        "    for i in range(0, cycles_cnt):\n",
        "        for j in range(i+1, cycles_cnt):\n",
        "            ans += f'data_cp[cur_{i}, cur_{j}]'\n",
        "            if i == cycles_cnt - 2 and j == cycles_cnt - 1: break\n",
        "            ans += ' and '\n",
        "    ans += ':\\n'\n",
        "\n",
        "    ans += f'{tab}' + f'{tab}' * (cycles_cnt + 2) + 'cycles_len += 1\\n'\n",
        "    for i in range(0, cycles_cnt):\n",
        "        ans += f'{tab}' + f'{tab}' * (cycles_cnt + 2) + f'cycles[cycles_len - 1][{i}] = cur_{i}\\n'\n",
        "\n",
        "    ans += f'{tab}' + f'{tab}' * (cycles_cnt + 1) + 'while '\n",
        "    for i in range(0, cycles_cnt):\n",
        "        for j in range(i+1, cycles_cnt):\n",
        "            ans += f'data_cp[cur_{i}, cur_{j}]'\n",
        "            if i == cycles_cnt - 2 and j == cycles_cnt - 1: break\n",
        "            ans += ' and '\n",
        "    ans += ':\\n'\n",
        "\n",
        "    ans += f'{tab}' + f'{tab}' * (cycles_cnt + 2) + f'cycles[cycles_len - 1][-1] += 1\\n'\n",
        "    for i in range(0, cycles_cnt):\n",
        "        for j in range(i+1, cycles_cnt):\n",
        "            ans += f'{tab}' + f'{tab}' * (cycles_cnt + 2) + f'data_cp[cur_{i}][cur_{j}] -= 1\\n'\n",
        "            ans += f'{tab}' + f'{tab}' * (cycles_cnt + 2) + f'data_cp[cur_{j}][cur_{i}] -= 1\\n'\n",
        "    \n",
        "    ans += f'{tab}' + 'return cycles_len'\n",
        "\n",
        "    ans += '\\n\\n\\n'\n",
        "\n",
        "    ans += f\"print(f'Searching cycles of length {cycles_cnt}')\\n\"\n",
        "    ans += f'cycles_{cycles_cnt} = np.zeros((500000, {cycles_cnt + 1}), dtype=int)\\n'\n",
        "    ans += f'cycles_{cycles_cnt}_len = find_cycles_{cycles_cnt}(data_cp, cycles_{cycles_cnt})\\n'\n",
        "    ans += f'cycles_to_res(cycles_{cycles_cnt}, cycles_{cycles_cnt}_len)\\n'\n",
        "    ans += f\"print(f'Added cycles for len {cycles_cnt}:\" + '{' + f\" cycles_{cycles_cnt}\" + \"_len}\" + \"')\\n\\n\\n\"\n",
        "\n",
        "    return ans\n",
        "\n",
        "print(get_algo_for_cycles(6, 50, 5))\n",
        "print(get_algo_for_cycles(5, 100, 5))\n",
        "print(get_algo_for_cycles(4, 878, 5))\n",
        "print(get_algo_for_cycles(3, 878, 5))"
      ],
      "metadata": {
        "id": "s8dX8ep7zQEF"
      },
      "execution_count": null,
      "outputs": []
    },
    {
      "cell_type": "markdown",
      "source": [
        "Боровко Никита, 201 группа, ВМК МГУ"
      ],
      "metadata": {
        "id": "G9kIazs905SY"
      }
    }
  ]
}